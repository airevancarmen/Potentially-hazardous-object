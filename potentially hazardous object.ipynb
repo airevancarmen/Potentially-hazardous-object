{
 "cells": [
  {
   "cell_type": "code",
   "execution_count": 2,
   "metadata": {},
   "outputs": [],
   "source": [
    "#importing libraries \n",
    "import matplotlib.pyplot as plt\n",
    "import numpy as np \n",
    "import pandas as pd\n",
    "import json\n",
    "import requests\n",
    "\n",
    "#data url\n",
    "url= 'https://data.nasa.gov/resource/2vr3-k9wn.json'\n",
    "\n",
    "# Package the request, send the request and catch the response: r\n",
    "r = requests.get(url)\n",
    "\n",
    "# Decode the JSON data into a dictionary: json_data\n",
    "data= r.json()\n"
   ]
  },
  {
   "cell_type": "code",
   "execution_count": 13,
   "metadata": {},
   "outputs": [],
   "source": [
    "#create a dataframe from a json : df\n",
    "df = pd.DataFrame.from_dict(data, orient='columns')"
   ]
  },
  {
   "cell_type": "code",
   "execution_count": 14,
   "metadata": {},
   "outputs": [],
   "source": [
    "#drop the rows where at least one element is missing\n",
    "clean = df.dropna()\n",
    "\n",
    "#selecting the variable of interest. The variable moid_au is the minimum orbit intersection distance. moid_au defines if an object is potentially dangerous. Risk AU < 0.05 AU. AU=Astronomical units\n",
    "\n",
    "newdf = clean[['moid_au', 'h_mag']]\n"
   ]
  },
  {
   "cell_type": "code",
   "execution_count": 15,
   "metadata": {},
   "outputs": [
    {
     "name": "stderr",
     "output_type": "stream",
     "text": [
      "C:\\anaconda\\lib\\site-packages\\ipykernel_launcher.py:2: SettingWithCopyWarning: \n",
      "A value is trying to be set on a copy of a slice from a DataFrame.\n",
      "Try using .loc[row_indexer,col_indexer] = value instead\n",
      "\n",
      "See the caveats in the documentation: http://pandas.pydata.org/pandas-docs/stable/indexing.html#indexing-view-versus-copy\n",
      "  \n",
      "C:\\anaconda\\lib\\site-packages\\ipykernel_launcher.py:3: SettingWithCopyWarning: \n",
      "A value is trying to be set on a copy of a slice from a DataFrame.\n",
      "Try using .loc[row_indexer,col_indexer] = value instead\n",
      "\n",
      "See the caveats in the documentation: http://pandas.pydata.org/pandas-docs/stable/indexing.html#indexing-view-versus-copy\n",
      "  This is separate from the ipykernel package so we can avoid doing imports until\n"
     ]
    }
   ],
   "source": [
    "#I don´t get why it shows me a string. I´m still not familiar with the json.\n",
    "newdf['moid_au'] = [float(i) for i in newdf['moid_au']]\n",
    "newdf['h_mag'] = [float(i) for i in newdf['h_mag']]\n",
    "\n",
    "#notes of dataframe filters that work\n",
    "#df_pop_ceb = df_urb_pop[df_urb_pop['CountryCode'] == 'CEB']\n",
    "#gapminder_2002 = gapminder[gapminder['year']==2002]\n"
   ]
  },
  {
   "cell_type": "code",
   "execution_count": 18,
   "metadata": {},
   "outputs": [
    {
     "name": "stdout",
     "output_type": "stream",
     "text": [
      "moid_au    15\n",
      "h_mag      15\n",
      "dtype: int64\n"
     ]
    }
   ],
   "source": [
    "#wanted dataframe\n",
    "print(newdf.loc[(newdf['moid_au'] < 0.05) & (newdf['h_mag'] > 22.00) ].count())\n"
   ]
  },
  {
   "cell_type": "code",
   "execution_count": null,
   "metadata": {},
   "outputs": [],
   "source": [
    "for item in moi:\n",
    "    print(item['moid_au']\n",
    " #if item['moid_au'] <0.05    "
   ]
  }
 ],
 "metadata": {
  "kernelspec": {
   "display_name": "Python 3",
   "language": "python",
   "name": "python3"
  },
  "language_info": {
   "codemirror_mode": {
    "name": "ipython",
    "version": 3
   },
   "file_extension": ".py",
   "mimetype": "text/x-python",
   "name": "python",
   "nbconvert_exporter": "python",
   "pygments_lexer": "ipython3",
   "version": "3.6.5"
  }
 },
 "nbformat": 4,
 "nbformat_minor": 2
}
